{
 "cells": [
  {
   "cell_type": "markdown",
   "metadata": {},
   "source": [
    "# Real-Time API\n",
    "For some applications it is critical to have access to eye tracking data in real-time. Imagine for example an application utilizing gaze-interaction to allow users to press a button using only their eyes.\n",
    "\n",
    "In other cases it may be important to automatically start or stop a recording and save [events](). For example you might want to launch a screen-based experiment and have the recording start automatically when the stimulus presentation begins. Additionally, you might want to save the timestamps of when the subject interacted with the screen.\n",
    "\n",
    "All of this is possible for developers using Pupil Invisible's real-time API. It allows you to stream gaze data and scene video to any device connected to the same local network. Further, you can control all devices remotely to start and stop recordings or save events.\n",
    "\n",
    "If you are not a developer and simply need a tool to monitor and controll all your devices in real-time, check out [Pupil Invisible Monitor]().\n",
    "\n",
    "We have created a Python client library for the API that makes it very easy to use. If you require access to the API from a different programming language please see the documentation [here]().\n",
    "\n",
    "To install the client library execute the following command in a terminal:\n",
    "\n",
    "`pip install pupil_labs`"
   ]
  },
  {
   "cell_type": "markdown",
   "metadata": {},
   "source": [
    "### Using the Client Library\n",
    "The client comes in two modes, `simple` and `async`. The simple mode is very easy to use and is the one we will focus on in this tutorial. \n",
    "\n",
    "The async mode is using Python's async.io in order to implement non-blocking asynchronous communication. The calls made using the simple mode are blocking. If you don't know what any of this means, that's okay! The simple mode suffices for most use-cases and you usually do not need to understand the differences!\n",
    "\n",
    "The simple client is located in `pupil_labs.realtime_api.simple`. Using the `discover_one_device` method we can connect to a Pupil Invisible device connected to your local network. Make sure the Invisible Companion app is running! If no device can be found, please check [this section]() in our troubleshooting area! "
   ]
  },
  {
   "cell_type": "code",
   "execution_count": 1,
   "metadata": {},
   "outputs": [
    {
     "ename": "RuntimeError",
     "evalue": "asyncio.run() cannot be called from a running event loop",
     "output_type": "error",
     "traceback": [
      "\u001b[1;31m---------------------------------------------------------------------------\u001b[0m",
      "\u001b[1;31mRuntimeError\u001b[0m                              Traceback (most recent call last)",
      "\u001b[1;32m~\\AppData\\Local\\Temp/ipykernel_31560/1091039618.py\u001b[0m in \u001b[0;36m<module>\u001b[1;34m\u001b[0m\n\u001b[0;32m      1\u001b[0m \u001b[1;32mfrom\u001b[0m \u001b[0mpupil_labs\u001b[0m\u001b[1;33m.\u001b[0m\u001b[0mrealtime_api\u001b[0m\u001b[1;33m.\u001b[0m\u001b[0mbasic\u001b[0m \u001b[1;32mimport\u001b[0m \u001b[0mdiscover_one_device\u001b[0m\u001b[1;33m\u001b[0m\u001b[1;33m\u001b[0m\u001b[0m\n\u001b[1;32m----> 2\u001b[1;33m \u001b[0mdevice\u001b[0m \u001b[1;33m=\u001b[0m \u001b[0mdiscover_one_device\u001b[0m\u001b[1;33m(\u001b[0m\u001b[0mmax_search_duration_seconds\u001b[0m\u001b[1;33m=\u001b[0m\u001b[1;36m10\u001b[0m\u001b[1;33m)\u001b[0m\u001b[1;33m\u001b[0m\u001b[1;33m\u001b[0m\u001b[0m\n\u001b[0m",
      "\u001b[1;32m~\\Anaconda3\\envs\\sci\\lib\\site-packages\\pupil_labs\\realtime_api\\basic.py\u001b[0m in \u001b[0;36mdiscover_one_device\u001b[1;34m(max_search_duration_seconds)\u001b[0m\n\u001b[0;32m     54\u001b[0m         \u001b[1;32mreturn\u001b[0m \u001b[1;32mNone\u001b[0m\u001b[1;33m\u001b[0m\u001b[1;33m\u001b[0m\u001b[0m\n\u001b[0;32m     55\u001b[0m \u001b[1;33m\u001b[0m\u001b[0m\n\u001b[1;32m---> 56\u001b[1;33m     \u001b[0mdev_info\u001b[0m \u001b[1;33m=\u001b[0m \u001b[0masyncio\u001b[0m\u001b[1;33m.\u001b[0m\u001b[0mrun\u001b[0m\u001b[1;33m(\u001b[0m\u001b[0m_return_first_device\u001b[0m\u001b[1;33m(\u001b[0m\u001b[1;33m)\u001b[0m\u001b[1;33m)\u001b[0m\u001b[1;33m\u001b[0m\u001b[1;33m\u001b[0m\u001b[0m\n\u001b[0m\u001b[0;32m     57\u001b[0m     \u001b[1;32mif\u001b[0m \u001b[0mdev_info\u001b[0m \u001b[1;32mis\u001b[0m \u001b[1;32mnot\u001b[0m \u001b[1;32mNone\u001b[0m\u001b[1;33m:\u001b[0m\u001b[1;33m\u001b[0m\u001b[1;33m\u001b[0m\u001b[0m\n\u001b[0;32m     58\u001b[0m         \u001b[1;32mreturn\u001b[0m \u001b[0mDevice\u001b[0m\u001b[1;33m.\u001b[0m\u001b[0mfrom_discovered_device\u001b[0m\u001b[1;33m(\u001b[0m\u001b[0mdev_info\u001b[0m\u001b[1;33m)\u001b[0m\u001b[1;33m\u001b[0m\u001b[1;33m\u001b[0m\u001b[0m\n",
      "\u001b[1;32m~\\Anaconda3\\envs\\sci\\lib\\asyncio\\runners.py\u001b[0m in \u001b[0;36mrun\u001b[1;34m(main, debug)\u001b[0m\n\u001b[0;32m     31\u001b[0m     \"\"\"\n\u001b[0;32m     32\u001b[0m     \u001b[1;32mif\u001b[0m \u001b[0mevents\u001b[0m\u001b[1;33m.\u001b[0m\u001b[0m_get_running_loop\u001b[0m\u001b[1;33m(\u001b[0m\u001b[1;33m)\u001b[0m \u001b[1;32mis\u001b[0m \u001b[1;32mnot\u001b[0m \u001b[1;32mNone\u001b[0m\u001b[1;33m:\u001b[0m\u001b[1;33m\u001b[0m\u001b[1;33m\u001b[0m\u001b[0m\n\u001b[1;32m---> 33\u001b[1;33m         raise RuntimeError(\n\u001b[0m\u001b[0;32m     34\u001b[0m             \"asyncio.run() cannot be called from a running event loop\")\n\u001b[0;32m     35\u001b[0m \u001b[1;33m\u001b[0m\u001b[0m\n",
      "\u001b[1;31mRuntimeError\u001b[0m: asyncio.run() cannot be called from a running event loop"
     ]
    }
   ],
   "source": [
    "from pupil_labs.realtime_api.basic import discover_one_device\n",
    "device = discover_one_device(max_search_duration_seconds=10)"
   ]
  },
  {
   "cell_type": "markdown",
   "metadata": {},
   "source": [
    "With the device connected, you can check various properties of the Companion device and the Pupil Invisible Glasses:"
   ]
  },
  {
   "cell_type": "code",
   "execution_count": null,
   "metadata": {},
   "outputs": [],
   "source": [
    "print(f\"Phone IP address: {device.phone_ip}\")\n",
    "print(f\"Phone name: {device.phone_name}\")\n",
    "print(f\"Phone unique ID: {device.phone_id}\")\n",
    "\n",
    "print(f\"Battery level: {device.battery_level_percent}%\")\n",
    "print(f\"Battery state: {device.battery_state}\")\n",
    "\n",
    "print(f\"Free storage: {device.memory_num_free_bytes / 1024**3}GB\")\n",
    "print(f\"Storage level: {device.memory_state}\")\n",
    "\n",
    "print(f\"Connected glasses: SN {device.serial_number_glasses}\")\n",
    "print(f\"Connected scene camera: SN {device.serial_number_scene_cam}\")"
   ]
  },
  {
   "cell_type": "markdown",
   "metadata": {},
   "source": [
    "### Remote Controll of Pupil Invisible Devices\n",
    "Use the `recording_start` and `recording_stop_and_save` methods to remotely start and stop recordings.\n",
    "\n",
    "While a recordings is running you can check it's current duration by querying the device's status using `get_status`."
   ]
  },
  {
   "cell_type": "code",
   "execution_count": null,
   "metadata": {},
   "outputs": [],
   "source": [
    "import time\n",
    "\n",
    "recording_id = device.recording_start()\n",
    "print(f\"Started recording with id {recording_id}\")\n",
    "\n",
    "time.sleep(5)\n",
    "\n",
    "status = device.get_status()\n",
    "print(f\"Recording is running for {status.recording.rec_duration_seconds} seconds\")\n",
    "\n",
    "device.recording_stop_and_save()\n"
   ]
  },
  {
   "cell_type": "markdown",
   "metadata": {},
   "source": [
    "While a recording is running, you can save [events]() using the `send_event` method. By default, the Pupil Invisible device receiving the event will assign assign a timestamp to it, using the time of arrivel. Optionally, you can set a custom nanosecond timestamp for your event instead."
   ]
  },
  {
   "cell_type": "code",
   "execution_count": null,
   "metadata": {},
   "outputs": [],
   "source": [
    "device.recording_start()\n",
    "\n",
    "print(device.send_event(\"test event\"))\n",
    "\n",
    "# send event with current timestamp\n",
    "print(device.send_event(\"test event\", event_timestamp_unix_ns=time.time_ns()))\n",
    "\n",
    "device.recording_stop_and_save()\n"
   ]
  },
  {
   "cell_type": "markdown",
   "metadata": {},
   "source": [
    "### Streaming Scene Video and Gaze Data"
   ]
  },
  {
   "cell_type": "code",
   "execution_count": null,
   "metadata": {},
   "outputs": [],
   "source": [
    "frame = device.read_scene_video_frame()\n",
    "bgr_buffer = frame.bgr_buffer()\n",
    "\n",
    "import matplotlib.pyplot as plt\n",
    "\n",
    "plt.imshow(bgr_buffer)"
   ]
  }
 ],
 "metadata": {
  "interpreter": {
   "hash": "b9049ce7088865880aaffb2cae71e78a9f3c10fb98aa104b53c79f61dae30873"
  },
  "kernelspec": {
   "display_name": "Python 3.8.12 64-bit ('sci': conda)",
   "language": "python",
   "name": "python3"
  },
  "language_info": {
   "codemirror_mode": {
    "name": "ipython",
    "version": 3
   },
   "file_extension": ".py",
   "mimetype": "text/x-python",
   "name": "python",
   "nbconvert_exporter": "python",
   "pygments_lexer": "ipython3",
   "version": "3.8.12"
  },
  "orig_nbformat": 4
 },
 "nbformat": 4,
 "nbformat_minor": 2
}
